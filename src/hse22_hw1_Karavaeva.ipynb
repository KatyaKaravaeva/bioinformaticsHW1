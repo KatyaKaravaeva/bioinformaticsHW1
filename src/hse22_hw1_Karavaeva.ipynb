{
  "nbformat": 4,
  "nbformat_minor": 0,
  "metadata": {
    "colab": {
      "provenance": [],
      "collapsed_sections": []
    },
    "kernelspec": {
      "name": "python3",
      "display_name": "Python 3"
    },
    "language_info": {
      "name": "python"
    }
  },
  "cells": [
    {
      "cell_type": "markdown",
      "source": [
        "**Импортируем необходимые библиотеки**"
      ],
      "metadata": {
        "id": "I6qF1LEaZZ34"
      }
    },
    {
      "cell_type": "code",
      "execution_count": null,
      "metadata": {
        "colab": {
          "base_uri": "https://localhost:8080/"
        },
        "id": "6-MCu_jWZVnx",
        "outputId": "af0519c8-8ef0-4ca9-e6b7-bc4e77e3a56f"
      },
      "outputs": [
        {
          "output_type": "stream",
          "name": "stdout",
          "text": [
            "Looking in indexes: https://pypi.org/simple, https://us-python.pkg.dev/colab-wheels/public/simple/\n",
            "Collecting biopython\n",
            "  Downloading biopython-1.79-cp37-cp37m-manylinux_2_5_x86_64.manylinux1_x86_64.whl (2.3 MB)\n",
            "\u001b[K     |████████████████████████████████| 2.3 MB 19.4 MB/s \n",
            "\u001b[?25hRequirement already satisfied: numpy in /usr/local/lib/python3.7/dist-packages (from biopython) (1.21.6)\n",
            "Installing collected packages: biopython\n",
            "Successfully installed biopython-1.79\n"
          ]
        }
      ],
      "source": [
        "!pip install biopython\n",
        "import re\n",
        "from Bio import SeqIO"
      ]
    },
    {
      "cell_type": "markdown",
      "source": [
        "**Клонируем репозиторий**"
      ],
      "metadata": {
        "id": "hsWPCA7vZgi_"
      }
    },
    {
      "cell_type": "code",
      "source": [
        "!git clone https://github.com/KatyaKaravaeva/hse22_hw1.git"
      ],
      "metadata": {
        "colab": {
          "base_uri": "https://localhost:8080/"
        },
        "id": "aj1vCyI9ZhPM",
        "outputId": "bc0e8d87-5f19-4faf-f0c2-c0b2232be69b"
      },
      "execution_count": null,
      "outputs": [
        {
          "output_type": "stream",
          "name": "stdout",
          "text": [
            "Cloning into 'hse22_hw1'...\n",
            "remote: Enumerating objects: 106, done.\u001b[K\n",
            "remote: Counting objects: 100% (22/22), done.\u001b[K\n",
            "remote: Compressing objects: 100% (18/18), done.\u001b[K\n",
            "remote: Total 106 (delta 13), reused 4 (delta 4), pack-reused 84\u001b[K\n",
            "Receiving objects: 100% (106/106), 5.92 MiB | 4.64 MiB/s, done.\n",
            "Resolving deltas: 100% (31/31), done.\n"
          ]
        }
      ]
    },
    {
      "cell_type": "markdown",
      "source": [
        "**Число контигов**"
      ],
      "metadata": {
        "id": "0IpMF9P_ZlRE"
      }
    },
    {
      "cell_type": "code",
      "source": [
        "! grep -c '>' /content/hse22_hw1/Data/Poil_contig.fa"
      ],
      "metadata": {
        "id": "e8NN18hTZl2k"
      },
      "execution_count": null,
      "outputs": []
    },
    {
      "cell_type": "markdown",
      "source": [
        "**Создаем функцию для для анализа**"
      ],
      "metadata": {
        "id": "KKMubY2CZrhE"
      }
    },
    {
      "cell_type": "code",
      "source": [
        "# Функция, которая возвращает коллекцию длин.\n",
        "def get_contig(info):\n",
        "  return [len(line) for line in info]\n",
        "\n",
        "# Функция возвращает самый короткий контиг при суммировании длин минимального числа контигов\n",
        "# для получения суммы, большей или равной половине длины сборки генома\n",
        "def N50(contigs_len):\n",
        "  contigs_len = sorted(contigs_len, reverse=True)\n",
        "  res = 0\n",
        "  sum_len = sum(contigs_len)\n",
        "  const_lim = sum_len / 2\n",
        "  for len in contigs_len:\n",
        "    res += len\n",
        "    if res >= const_lim:\n",
        "      return res\n",
        "\n",
        "def print_data(data):\n",
        "  # Коллекция, в которой хранятся длины контигов\n",
        "  contigs = get_contig(data)\n",
        "  print(\"Число =\", len(contigs))  \n",
        "  print(\"Суммарная длина =\", sum(contigs))  \n",
        "  print(\"Самый длинный =\", max(contigs)) \n",
        "  print(\"N50 =\", N50(contigs))"
      ],
      "metadata": {
        "id": "kUa2ckhtZoOE"
      },
      "execution_count": null,
      "outputs": []
    },
    {
      "cell_type": "markdown",
      "source": [
        "**Анализ полученных контигов** "
      ],
      "metadata": {
        "id": "-H7i1R-rZxtY"
      }
    },
    {
      "cell_type": "code",
      "source": [
        "contigs = list(SeqIO.parse('/content/hse22_hw1/Data/Poil_contig.fa', \"fasta\"))\n",
        "print(\"Анализ полученных контигов\")\n",
        "print_data(contigs)"
      ],
      "metadata": {
        "colab": {
          "base_uri": "https://localhost:8080/"
        },
        "id": "VYP77k7eZ0FH",
        "outputId": "ff7ae60a-0371-451a-e0a8-bceef4ebbf0a"
      },
      "execution_count": null,
      "outputs": [
        {
          "output_type": "stream",
          "name": "stdout",
          "text": [
            "Анализ полученных контигов\n",
            "Число = 602\n",
            "Суммарная длина = 3923457\n",
            "Самый длинный = 179307\n",
            "N50 = 1987869\n"
          ]
        }
      ]
    },
    {
      "cell_type": "markdown",
      "source": [
        " **Aнализ полученных скаффолдов** "
      ],
      "metadata": {
        "id": "aL0dxlSXaDCh"
      }
    },
    {
      "cell_type": "code",
      "source": [
        "def get_len_gap(data):\n",
        "  return [len(x) for x in re.findall('N+', str(data.seq))]\n",
        "\n",
        "def print_data_gap(data):\n",
        "  print(\"Для самого длинного скаффолда подсчет количества гэпов =\", len(get_len_gap(data[0])))\n",
        "  print(\"Для самого длинного скаффолда подсчет длины гэпов =\", sum(get_len_gap(data[0])))\n"
      ],
      "metadata": {
        "id": "pQieoyWQaF8T"
      },
      "execution_count": null,
      "outputs": []
    },
    {
      "cell_type": "code",
      "source": [
        "scaffolds = list(SeqIO.parse('/content/hse22_hw1/Data/Poil_scaffold.fa', \"fasta\"))\n",
        "print(\"Aнализ полученных скаффолдов\")\n",
        "print_data(scaffolds)\n",
        "print_data_gap(scaffolds)"
      ],
      "metadata": {
        "colab": {
          "base_uri": "https://localhost:8080/"
        },
        "id": "C1HXsfDAaKQc",
        "outputId": "52fe0b5b-fe0e-48f3-8b7d-5315bb466d0b"
      },
      "execution_count": null,
      "outputs": [
        {
          "output_type": "stream",
          "name": "stdout",
          "text": [
            "Aнализ полученных скаффолдов\n",
            "Число = 69\n",
            "Суммарная длина = 3873658\n",
            "Самый длинный = 3834035\n",
            "N50 = 3834035\n",
            "Для самого длинного скаффолда подсчет количества гэпов = 63\n",
            "Для самого длинного скаффолда подсчет длины гэпов = 6742\n"
          ]
        }
      ]
    },
    {
      "cell_type": "markdown",
      "source": [
        "**После уменьшения количества гэпов**"
      ],
      "metadata": {
        "id": "mg_cInouaMPA"
      }
    },
    {
      "cell_type": "code",
      "source": [
        "gap_closed = list(SeqIO.parse('/content/hse22_hw1/Data/Poil_gapClosed.fa', \"fasta\"))\n",
        "print_data(gap_closed)\n",
        "print_data_gap(gap_closed)"
      ],
      "metadata": {
        "colab": {
          "base_uri": "https://localhost:8080/"
        },
        "id": "reqb2NhhaQ6p",
        "outputId": "5b429409-c358-41af-bc17-8adbd9ded596"
      },
      "execution_count": null,
      "outputs": [
        {
          "output_type": "stream",
          "name": "stdout",
          "text": [
            "Число = 69\n",
            "Суммарная длина = 3924840\n",
            "Самый длинный = 3885001\n",
            "N50 = 3885001\n",
            "Для самого длинного скаффолда подсчет количества гэпов = 8\n",
            "Для самого длинного скаффолда подсчет длины гэпов = 1673\n"
          ]
        }
      ]
    },
    {
      "cell_type": "markdown",
      "source": [
        "**Бонусная часть**"
      ],
      "metadata": {
        "id": "3Yfbr88Fak7d"
      }
    },
    {
      "cell_type": "markdown",
      "source": [
        "**Анализ контигов** "
      ],
      "metadata": {
        "id": "c0oprdDUa4Tw"
      }
    },
    {
      "cell_type": "code",
      "source": [
        "contigs = list(SeqIO.parse('/content/hse22_hw1/bonus/Poil_contig_bonus.fa', \"fasta\"))\n",
        "print(\"Анализ полученных контигов\")\n",
        "print_data(contigs)"
      ],
      "metadata": {
        "colab": {
          "base_uri": "https://localhost:8080/"
        },
        "id": "8oBlXOcWaofm",
        "outputId": "36dc6633-6929-4422-c22b-312e9ed07eff"
      },
      "execution_count": null,
      "outputs": [
        {
          "output_type": "stream",
          "name": "stdout",
          "text": [
            "Анализ полученных контигов\n",
            "Число = 710\n",
            "Суммарная длина = 3924404\n",
            "Самый длинный = 233104\n",
            "N50 = 1983943\n"
          ]
        }
      ]
    },
    {
      "cell_type": "markdown",
      "source": [
        "**Aнализ полученных скаффолдов** "
      ],
      "metadata": {
        "id": "cEogwqnsbGJo"
      }
    },
    {
      "cell_type": "code",
      "source": [
        "scaffolds = list(SeqIO.parse('/content/hse22_hw1/bonus/Poil_scaffold_bonus.fa', \"fasta\"))\n",
        "print(\"Aнализ полученных скаффолдов\")\n",
        "print_data(scaffolds)\n",
        "print_data_gap(scaffolds)"
      ],
      "metadata": {
        "colab": {
          "base_uri": "https://localhost:8080/"
        },
        "id": "uiQmkFnVbJ5c",
        "outputId": "2c850a74-5d6b-4f5d-c07a-4ae70d27f13c"
      },
      "execution_count": null,
      "outputs": [
        {
          "output_type": "stream",
          "name": "stdout",
          "text": [
            "Aнализ полученных скаффолдов\n",
            "Число = 84\n",
            "Суммарная длина = 3867458\n",
            "Самый длинный = 3828508\n",
            "N50 = 3828508\n",
            "Для самого длинного скаффолда подсчет количества гэпов = 73\n",
            "Для самого длинного скаффолда подсчет длины гэпов = 7704\n"
          ]
        }
      ]
    },
    {
      "cell_type": "markdown",
      "source": [
        "**После уменьшения количества гэпов**"
      ],
      "metadata": {
        "id": "oMnBJVrIbtJk"
      }
    },
    {
      "cell_type": "code",
      "source": [
        "gap_closed = list(SeqIO.parse('/content/hse22_hw1/bonus/Poil_gapClosed_bonus.fa', \"fasta\"))\n",
        "print_data(gap_closed)\n",
        "print_data_gap(gap_closed)"
      ],
      "metadata": {
        "colab": {
          "base_uri": "https://localhost:8080/"
        },
        "id": "eS7zVw0vbtzx",
        "outputId": "8b631e45-5e8a-42f4-be3d-4f55ea47019b"
      },
      "execution_count": null,
      "outputs": [
        {
          "output_type": "stream",
          "name": "stdout",
          "text": [
            "Число = 69\n",
            "Суммарная длина = 3924840\n",
            "Самый длинный = 3885001\n",
            "N50 = 3885001\n",
            "Для самого длинного скаффолда подсчет количества гэпов = 8\n",
            "Для самого длинного скаффолда подсчет длины гэпов = 1673\n"
          ]
        }
      ]
    }
  ]
}